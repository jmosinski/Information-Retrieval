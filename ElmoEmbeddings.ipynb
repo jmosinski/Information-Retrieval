{
 "cells": [
  {
   "cell_type": "code",
   "execution_count": null,
   "metadata": {
    "papermill": {
     "duration": 0.025354,
     "end_time": "2021-04-05T15:55:36.860870",
     "exception": false,
     "start_time": "2021-04-05T15:55:36.835516",
     "status": "completed"
    },
    "tags": []
   },
   "outputs": [],
   "source": [
    "# !pip install allennlp"
   ]
  },
  {
   "cell_type": "code",
   "execution_count": null,
   "metadata": {
    "_cell_guid": "b1076dfc-b9ad-4769-8c92-a6c4dae69d19",
    "_uuid": "8f2839f25d086af736a60e9eeb907d3b93b6e0e5",
    "papermill": {
     "duration": 5.261014,
     "end_time": "2021-04-05T15:55:42.141559",
     "exception": false,
     "start_time": "2021-04-05T15:55:36.880545",
     "status": "completed"
    },
    "tags": []
   },
   "outputs": [],
   "source": [
    "import pickle\n",
    "import numpy as np\n",
    "import pandas as pd\n",
    "import re\n",
    "\n",
    "import torch\n",
    "from allennlp.modules.elmo import batch_to_ids\n",
    "from allennlp.modules.token_embedders.elmo_token_embedder import ElmoTokenEmbedder"
   ]
  },
  {
   "cell_type": "markdown",
   "metadata": {
    "papermill": {
     "duration": 0.020842,
     "end_time": "2021-04-05T15:55:42.181341",
     "exception": false,
     "start_time": "2021-04-05T15:55:42.160499",
     "status": "completed"
    },
    "tags": []
   },
   "source": [
    "## Save Elmo Embeddings"
   ]
  },
  {
   "cell_type": "code",
   "execution_count": null,
   "metadata": {
    "papermill": {
     "duration": 17.846483,
     "end_time": "2021-04-05T15:56:00.046775",
     "exception": false,
     "start_time": "2021-04-05T15:55:42.200292",
     "status": "completed"
    },
    "tags": []
   },
   "outputs": [],
   "source": [
    "class Batcher:\n",
    "    '''Iterator class that returns batches'''\n",
    "    def __init__(self, data, batch_size=64):\n",
    "        self.data = data\n",
    "        self.n = len(data)\n",
    "        self.batch_size = batch_size\n",
    "        self.i = 1\n",
    "        self.max_i = self.n // batch_size\n",
    "        \n",
    "    def __iter__(self):\n",
    "        self.i = 0\n",
    "        return self\n",
    "        \n",
    "    def __next__(self):\n",
    "        if self.i <= self.max_i:\n",
    "            start = self.i * self.batch_size\n",
    "            stop = (self.i+1) * self.batch_size\n",
    "            self.i += 1\n",
    "            return self.data[start:stop]\n",
    "        else: \n",
    "            raise StopIteration\n",
    "    \n",
    "\n",
    "def mean_pooling(x):\n",
    "    '''Mean pooling that takes padding into consideration'''\n",
    "    return x.sum(-2) / x.any(-1).sum(-1, keepdims=True)\n",
    "\n",
    "pattern = re.compile(r'[\\w]+')\n",
    "def tokenize(text):\n",
    "    '''Tokenizes data into words'''\n",
    "    return pattern.findall(text)\n",
    "\n",
    "# Use GPU if available\n",
    "device = 'cuda' if torch.cuda.is_available() else 'cpu'\n",
    "# ELmo Small configuration files\n",
    "options_file = \"https://s3-us-west-2.amazonaws.com/allennlp/models/elmo/2x1024_128_2048cnn_1xhighway/elmo_2x1024_128_2048cnn_1xhighway_options.json\"\n",
    "weight_file = \"https://s3-us-west-2.amazonaws.com/allennlp/models/elmo/2x1024_128_2048cnn_1xhighway/elmo_2x1024_128_2048cnn_1xhighway_weights.hdf5\"\n",
    "embedder = ElmoTokenEmbedder(options_file, weight_file).to(device)\n",
    "def embed(data):\n",
    "    '''Creates embeddings with Elmo'''\n",
    "    embeddings = np.empty((0, 256))\n",
    "    batches = iter(Batcher(data))\n",
    "    for batch in batches:\n",
    "        torch.cuda.empty_cache()\n",
    "        tokenized = list(map(tokenize, batch))\n",
    "        character_ids = batch_to_ids(tokenized).to(device)\n",
    "        embeds = embedder(character_ids).detach().cpu().numpy()\n",
    "        embeds = mean_pooling(embeds)\n",
    "        embeddings = np.vstack((embeddings, embeds))\n",
    "    return embeddings\n",
    "\n",
    "def data_from_embeds(df_org, q_dict, p_dict):\n",
    "    '''Matches query and passage embeddings to produce a numpy dataset'''\n",
    "    df = df_org[['qid', 'pid', 'relevancy']]\n",
    "    # Sorting is conveniet for fast groups retireval from dataset with np.bincount\n",
    "    df = df[df['pid'].isin(p_dict.keys())].sort_values(by='qid')\n",
    "    qids = df.qid.values\n",
    "    pids = df.pid.values\n",
    "    \n",
    "    q_emb = [q_dict[qid] for qid in qids]\n",
    "    p_emb = [p_dict[pid] for pid in pids]\n",
    "    x = np.hstack((q_emb, p_emb))\n",
    "    y = df.relevancy.values\n",
    "    data = np.hstack((qids[:,None], pids[:,None], y[:,None], x))\n",
    "    return data"
   ]
  },
  {
   "cell_type": "markdown",
   "metadata": {
    "papermill": {
     "duration": 0.016324,
     "end_time": "2021-04-05T15:56:00.078031",
     "exception": false,
     "start_time": "2021-04-05T15:56:00.061707",
     "status": "completed"
    },
    "tags": []
   },
   "source": [
    "### Get Train data Embeddings"
   ]
  },
  {
   "cell_type": "code",
   "execution_count": null,
   "metadata": {
    "papermill": {
     "duration": 0.024394,
     "end_time": "2021-04-05T15:56:00.116744",
     "exception": false,
     "start_time": "2021-04-05T15:56:00.092350",
     "status": "completed"
    },
    "tags": []
   },
   "outputs": [],
   "source": [
    "df_train = pd.read_csv('../input/irdmdata/train_data.tsv', sep='\\t')\n",
    "df_train.head()"
   ]
  },
  {
   "cell_type": "markdown",
   "metadata": {},
   "source": [
    "Get train query embeddings"
   ]
  },
  {
   "cell_type": "code",
   "execution_count": null,
   "metadata": {
    "papermill": {
     "duration": 0.025709,
     "end_time": "2021-04-05T15:56:00.159119",
     "exception": false,
     "start_time": "2021-04-05T15:56:00.133410",
     "status": "completed"
    },
    "tags": []
   },
   "outputs": [],
   "source": [
    "# Only unique values to not duplicate computations\n",
    "df = df_train[['qid', 'queries']].drop_duplicates()\n",
    "# Sort by length to create batches of similar lentgh - faster for Elmo inference\n",
    "df = df.sort_values(by='queries', key=lambda x: x.str.len())\n",
    "embeddings = list(embed(df['queries'].values))\n",
    "# Dictionary is more convenient data structure here - O(1) for finding query data\n",
    "q_dict = pd.Series(embeddings, index=df['qid'].values).to_dict()"
   ]
  },
  {
   "cell_type": "markdown",
   "metadata": {},
   "source": [
    "Get sampled train passage embeddings"
   ]
  },
  {
   "cell_type": "code",
   "execution_count": null,
   "metadata": {
    "papermill": {
     "duration": 0.025956,
     "end_time": "2021-04-05T15:56:00.202074",
     "exception": false,
     "start_time": "2021-04-05T15:56:00.176118",
     "status": "completed"
    },
    "tags": []
   },
   "outputs": [],
   "source": [
    "p_dict = {'pid':[], 'passage':[]}\n",
    "# Sample randomly 100 non-relevant passages for each query\n",
    "for qid in df_train['qid'].unique():\n",
    "    mask = (df_train['qid']==qid) & (df_train['relevancy']==0)\n",
    "    p_df = df_train[mask][['pid', 'passage']]\n",
    "    idxs = np.arange(p_df.shape[0])\n",
    "    size = min(100, idxs.size)\n",
    "    idxs = np.random.choice(idxs, size=size, replace=False)\n",
    "    p_dict['pid'] += list(p_df.iloc[idxs]['pid'].values)\n",
    "    p_dict['passage'] += list(p_df.iloc[idxs]['passage'].values)\n",
    "\n",
    "# Add all passages with rel > 0\n",
    "p_df = df_train[df_train['relevancy']>0][['pid', 'passage']]\n",
    "p_dict['pid'] += list(p_df['pid'].values)\n",
    "p_dict['passage'] += list(p_df['passage'].values)\n",
    "\n",
    "# Get embeddings: \n",
    "# Only unique and sort by str len for faster inference\n",
    "df = pd.DataFrame(p_dict).drop_duplicates()\n",
    "df = df.sort_values(by='passage', key=lambda x: x.str.len())\n",
    "embeddings = list(embed(df['passage'].values))\n",
    "# Dictionary is more convenient data structure here - O(1) for finding query data\n",
    "p_dict = pd.Series(embeddings, index=df['pid'].values).to_dict()"
   ]
  },
  {
   "cell_type": "markdown",
   "metadata": {},
   "source": [
    "Save train data embeddings"
   ]
  },
  {
   "cell_type": "code",
   "execution_count": null,
   "metadata": {
    "papermill": {
     "duration": 0.025424,
     "end_time": "2021-04-05T15:56:00.242875",
     "exception": false,
     "start_time": "2021-04-05T15:56:00.217451",
     "status": "completed"
    },
    "tags": []
   },
   "outputs": [],
   "source": [
    "data_train = data_from_embeds(df_train, q_dict, p_dict)\n",
    "np.savez_compressed('data_train.npz', data_train)"
   ]
  },
  {
   "cell_type": "markdown",
   "metadata": {},
   "source": [
    "Free memory"
   ]
  },
  {
   "cell_type": "code",
   "execution_count": null,
   "metadata": {
    "papermill": {
     "duration": 0.025443,
     "end_time": "2021-04-05T15:56:00.283162",
     "exception": false,
     "start_time": "2021-04-05T15:56:00.257719",
     "status": "completed"
    },
    "tags": []
   },
   "outputs": [],
   "source": [
    "import gc\n",
    "del df_train, q_dict, p_dict, data_train\n",
    "gc.collect()"
   ]
  },
  {
   "cell_type": "markdown",
   "metadata": {
    "papermill": {
     "duration": 0.015408,
     "end_time": "2021-04-05T15:56:00.314068",
     "exception": false,
     "start_time": "2021-04-05T15:56:00.298660",
     "status": "completed"
    },
    "tags": []
   },
   "source": [
    "### Validation"
   ]
  },
  {
   "cell_type": "code",
   "execution_count": null,
   "metadata": {
    "papermill": {
     "duration": 14.190459,
     "end_time": "2021-04-05T15:56:14.519557",
     "exception": false,
     "start_time": "2021-04-05T15:56:00.329098",
     "status": "completed"
    },
    "tags": []
   },
   "outputs": [],
   "source": [
    "df_val = pd.read_csv('../input/irdmdata/validation_data.tsv', sep='\\t')\n",
    "df_val.head()"
   ]
  },
  {
   "cell_type": "markdown",
   "metadata": {},
   "source": [
    "Get validation query embeddings"
   ]
  },
  {
   "cell_type": "code",
   "execution_count": null,
   "metadata": {
    "papermill": {
     "duration": 0.037197,
     "end_time": "2021-04-05T15:56:14.581592",
     "exception": false,
     "start_time": "2021-04-05T15:56:14.544395",
     "status": "completed"
    },
    "tags": []
   },
   "outputs": [],
   "source": [
    "df = df_val[['qid', 'queries']].drop_duplicates()\n",
    "df = df.sort_values(by='queries', key=lambda x: x.str.len())\n",
    "embeddings = list(embed(df['queries'].values))\n",
    "q_dict = pd.Series(embeddings, index=df['qid'].values).to_dict()"
   ]
  },
  {
   "cell_type": "markdown",
   "metadata": {},
   "source": [
    "Get validation passage embeddings"
   ]
  },
  {
   "cell_type": "code",
   "execution_count": null,
   "metadata": {
    "papermill": {
     "duration": 0.033997,
     "end_time": "2021-04-05T15:56:14.642487",
     "exception": false,
     "start_time": "2021-04-05T15:56:14.608490",
     "status": "completed"
    },
    "tags": []
   },
   "outputs": [],
   "source": [
    "df = df_val[['pid', 'passage']].drop_duplicates()\n",
    "df = df.sort_values(by='passage', key=lambda x: x.str.len())\n",
    "embeddings = list(embed(df['passage'].values))\n",
    "p_dict = pd.Series(embeddings, index=df['pid'].values).to_dict()"
   ]
  },
  {
   "cell_type": "markdown",
   "metadata": {},
   "source": [
    "Save validation data as compressed .npz file - allows to load only specific query data into memory. Very useful for calculating final metrics and ommit problems with memory overflow."
   ]
  },
  {
   "cell_type": "code",
   "execution_count": null,
   "metadata": {
    "papermill": {
     "duration": 236.269842,
     "end_time": "2021-04-05T16:00:32.896173",
     "exception": false,
     "start_time": "2021-04-05T15:56:36.626331",
     "status": "completed"
    },
    "tags": []
   },
   "outputs": [],
   "source": [
    "data_val = data_from_embeds(df_val, q_dict, p_dict)\n",
    "data_dict = dict()\n",
    "for qid in q_dict.keys():\n",
    "    qid_mask = data_val[:,0]==qid\n",
    "    data_dict[str(qid)] = data_val[qid_mask][:,1:]\n",
    "np.savez_compressed('data_val.npz', **data_dict)"
   ]
  },
  {
   "cell_type": "markdown",
   "metadata": {},
   "source": [
    "Save small val data with all rel docs and 200 non-rel docs for each qid - useful for quick tests."
   ]
  },
  {
   "cell_type": "code",
   "execution_count": null,
   "metadata": {
    "papermill": {
     "duration": 141.937286,
     "end_time": "2021-04-05T16:02:54.851771",
     "exception": false,
     "start_time": "2021-04-05T16:00:32.914485",
     "status": "completed"
    },
    "tags": []
   },
   "outputs": [],
   "source": [
    "qids = list(data_dict.keys())\n",
    "qids = [int(qid) for qid in qids]\n",
    "data = np.empty((0, 1+data_dict[str(qids[0])].shape[-1]))\n",
    "for qid in qids:\n",
    "    q_data = data_dict[str(qid)]\n",
    "    pos_ids, = np.where(q_data[:,1]==1)\n",
    "    neg_ids, = np.where(q_data[:,1]==0)\n",
    "    size = min(200, len(neg_ids))\n",
    "    neg_ids = np.random.choice(neg_ids, size=size, replace=False)\n",
    "    ids = np.append(pos_ids, neg_ids)\n",
    "    qids = np.ones((ids.size, 1)) * qid\n",
    "    q_data = np.hstack((qids, q_data[ids]))\n",
    "    data = np.vstack((data, q_data))\n",
    "data = np.array(data)\n",
    "np.savez_compressed('data_val_small.npz', data)"
   ]
  }
 ],
 "metadata": {
  "kernelspec": {
   "display_name": "Python 3",
   "language": "python",
   "name": "python3"
  },
  "language_info": {
   "codemirror_mode": {
    "name": "ipython",
    "version": 3
   },
   "file_extension": ".py",
   "mimetype": "text/x-python",
   "name": "python",
   "nbconvert_exporter": "python",
   "pygments_lexer": "ipython3",
   "version": "3.8.3"
  },
  "papermill": {
   "default_parameters": {},
   "duration": 450.389177,
   "end_time": "2021-04-05T16:02:57.674903",
   "environment_variables": {},
   "exception": null,
   "input_path": "__notebook__.ipynb",
   "output_path": "__notebook__.ipynb",
   "parameters": {},
   "start_time": "2021-04-05T15:55:27.285726",
   "version": "2.2.2"
  },
  "widgets": {
   "application/vnd.jupyter.widget-state+json": {
    "state": {
     "0bf9e7e89c4b4abb81cfd786b1cc8577": {
      "model_module": "@jupyter-widgets/controls",
      "model_module_version": "1.5.0",
      "model_name": "FloatProgressModel",
      "state": {
       "_dom_classes": [],
       "_model_module": "@jupyter-widgets/controls",
       "_model_module_version": "1.5.0",
       "_model_name": "FloatProgressModel",
       "_view_count": null,
       "_view_module": "@jupyter-widgets/controls",
       "_view_module_version": "1.5.0",
       "_view_name": "ProgressView",
       "bar_style": "success",
       "description": "",
       "description_tooltip": null,
       "layout": "IPY_MODEL_fca0f36c78bc482fb185823f46f761cd",
       "max": 54402456,
       "min": 0,
       "orientation": "horizontal",
       "style": "IPY_MODEL_48e25d6a26264498a51a7ba009ce0ae2",
       "value": 54402456
      }
     },
     "34c0ecf438494499a2b17d2aa9d4d90f": {
      "model_module": "@jupyter-widgets/controls",
      "model_module_version": "1.5.0",
      "model_name": "HTMLModel",
      "state": {
       "_dom_classes": [],
       "_model_module": "@jupyter-widgets/controls",
       "_model_module_version": "1.5.0",
       "_model_name": "HTMLModel",
       "_view_count": null,
       "_view_module": "@jupyter-widgets/controls",
       "_view_module_version": "1.5.0",
       "_view_name": "HTMLView",
       "description": "",
       "description_tooltip": null,
       "layout": "IPY_MODEL_e7d82ad62eba46e09c748acd76d930a8",
       "placeholder": "​",
       "style": "IPY_MODEL_ae4d4cd85e274ed2a48bf1cd3c2bd35a",
       "value": " 54402456/54402456 [00:04&lt;00:00, 13949543.64B/s]"
      }
     },
     "3c675cd89d3d488d8d4e9479f005817f": {
      "model_module": "@jupyter-widgets/controls",
      "model_module_version": "1.5.0",
      "model_name": "ProgressStyleModel",
      "state": {
       "_model_module": "@jupyter-widgets/controls",
       "_model_module_version": "1.5.0",
       "_model_name": "ProgressStyleModel",
       "_view_count": null,
       "_view_module": "@jupyter-widgets/base",
       "_view_module_version": "1.2.0",
       "_view_name": "StyleView",
       "bar_color": null,
       "description_width": ""
      }
     },
     "48cc64fcf3d44055832f15652ccc5e3d": {
      "model_module": "@jupyter-widgets/controls",
      "model_module_version": "1.5.0",
      "model_name": "HTMLModel",
      "state": {
       "_dom_classes": [],
       "_model_module": "@jupyter-widgets/controls",
       "_model_module_version": "1.5.0",
       "_model_name": "HTMLModel",
       "_view_count": null,
       "_view_module": "@jupyter-widgets/controls",
       "_view_module_version": "1.5.0",
       "_view_name": "HTMLView",
       "description": "",
       "description_tooltip": null,
       "layout": "IPY_MODEL_59bb5b643e96435382a11e2fe16997b7",
       "placeholder": "​",
       "style": "IPY_MODEL_9eb11583fcc44a93b9e90e3c9b310e7e",
       "value": "downloading: 100%"
      }
     },
     "48e25d6a26264498a51a7ba009ce0ae2": {
      "model_module": "@jupyter-widgets/controls",
      "model_module_version": "1.5.0",
      "model_name": "ProgressStyleModel",
      "state": {
       "_model_module": "@jupyter-widgets/controls",
       "_model_module_version": "1.5.0",
       "_model_name": "ProgressStyleModel",
       "_view_count": null,
       "_view_module": "@jupyter-widgets/base",
       "_view_module_version": "1.2.0",
       "_view_name": "StyleView",
       "bar_color": null,
       "description_width": ""
      }
     },
     "59bb5b643e96435382a11e2fe16997b7": {
      "model_module": "@jupyter-widgets/base",
      "model_module_version": "1.2.0",
      "model_name": "LayoutModel",
      "state": {
       "_model_module": "@jupyter-widgets/base",
       "_model_module_version": "1.2.0",
       "_model_name": "LayoutModel",
       "_view_count": null,
       "_view_module": "@jupyter-widgets/base",
       "_view_module_version": "1.2.0",
       "_view_name": "LayoutView",
       "align_content": null,
       "align_items": null,
       "align_self": null,
       "border": null,
       "bottom": null,
       "display": null,
       "flex": null,
       "flex_flow": null,
       "grid_area": null,
       "grid_auto_columns": null,
       "grid_auto_flow": null,
       "grid_auto_rows": null,
       "grid_column": null,
       "grid_gap": null,
       "grid_row": null,
       "grid_template_areas": null,
       "grid_template_columns": null,
       "grid_template_rows": null,
       "height": null,
       "justify_content": null,
       "justify_items": null,
       "left": null,
       "margin": null,
       "max_height": null,
       "max_width": null,
       "min_height": null,
       "min_width": null,
       "object_fit": null,
       "object_position": null,
       "order": null,
       "overflow": null,
       "overflow_x": null,
       "overflow_y": null,
       "padding": null,
       "right": null,
       "top": null,
       "visibility": null,
       "width": null
      }
     },
     "5c77d29924914a9cbff660e1dfcec6d7": {
      "model_module": "@jupyter-widgets/base",
      "model_module_version": "1.2.0",
      "model_name": "LayoutModel",
      "state": {
       "_model_module": "@jupyter-widgets/base",
       "_model_module_version": "1.2.0",
       "_model_name": "LayoutModel",
       "_view_count": null,
       "_view_module": "@jupyter-widgets/base",
       "_view_module_version": "1.2.0",
       "_view_name": "LayoutView",
       "align_content": null,
       "align_items": null,
       "align_self": null,
       "border": null,
       "bottom": null,
       "display": null,
       "flex": null,
       "flex_flow": null,
       "grid_area": null,
       "grid_auto_columns": null,
       "grid_auto_flow": null,
       "grid_auto_rows": null,
       "grid_column": null,
       "grid_gap": null,
       "grid_row": null,
       "grid_template_areas": null,
       "grid_template_columns": null,
       "grid_template_rows": null,
       "height": null,
       "justify_content": null,
       "justify_items": null,
       "left": null,
       "margin": null,
       "max_height": null,
       "max_width": null,
       "min_height": null,
       "min_width": null,
       "object_fit": null,
       "object_position": null,
       "order": null,
       "overflow": null,
       "overflow_x": null,
       "overflow_y": null,
       "padding": null,
       "right": null,
       "top": null,
       "visibility": null,
       "width": null
      }
     },
     "69d81cc3c2d645029ec42ec2de1b65da": {
      "model_module": "@jupyter-widgets/controls",
      "model_module_version": "1.5.0",
      "model_name": "HBoxModel",
      "state": {
       "_dom_classes": [],
       "_model_module": "@jupyter-widgets/controls",
       "_model_module_version": "1.5.0",
       "_model_name": "HBoxModel",
       "_view_count": null,
       "_view_module": "@jupyter-widgets/controls",
       "_view_module_version": "1.5.0",
       "_view_name": "HBoxView",
       "box_style": "",
       "children": [
        "IPY_MODEL_a1b338b4257140b289a076e1ede72595",
        "IPY_MODEL_c0524be54749400fa645a6e36fdeb762",
        "IPY_MODEL_8e42ae3f7ac645cbb5e2cab90d7303b5"
       ],
       "layout": "IPY_MODEL_d25f6077067744de8c6a06f31d3545f8"
      }
     },
     "78c249f054b54beabf069919f2147f4b": {
      "model_module": "@jupyter-widgets/base",
      "model_module_version": "1.2.0",
      "model_name": "LayoutModel",
      "state": {
       "_model_module": "@jupyter-widgets/base",
       "_model_module_version": "1.2.0",
       "_model_name": "LayoutModel",
       "_view_count": null,
       "_view_module": "@jupyter-widgets/base",
       "_view_module_version": "1.2.0",
       "_view_name": "LayoutView",
       "align_content": null,
       "align_items": null,
       "align_self": null,
       "border": null,
       "bottom": null,
       "display": null,
       "flex": null,
       "flex_flow": null,
       "grid_area": null,
       "grid_auto_columns": null,
       "grid_auto_flow": null,
       "grid_auto_rows": null,
       "grid_column": null,
       "grid_gap": null,
       "grid_row": null,
       "grid_template_areas": null,
       "grid_template_columns": null,
       "grid_template_rows": null,
       "height": null,
       "justify_content": null,
       "justify_items": null,
       "left": null,
       "margin": null,
       "max_height": null,
       "max_width": null,
       "min_height": null,
       "min_width": null,
       "object_fit": null,
       "object_position": null,
       "order": null,
       "overflow": null,
       "overflow_x": null,
       "overflow_y": null,
       "padding": null,
       "right": null,
       "top": null,
       "visibility": null,
       "width": null
      }
     },
     "7aec8c5899784b0e82816369e88520ed": {
      "model_module": "@jupyter-widgets/controls",
      "model_module_version": "1.5.0",
      "model_name": "DescriptionStyleModel",
      "state": {
       "_model_module": "@jupyter-widgets/controls",
       "_model_module_version": "1.5.0",
       "_model_name": "DescriptionStyleModel",
       "_view_count": null,
       "_view_module": "@jupyter-widgets/base",
       "_view_module_version": "1.2.0",
       "_view_name": "StyleView",
       "description_width": ""
      }
     },
     "804bfb1371b1466ba276f202b5ae00c5": {
      "model_module": "@jupyter-widgets/base",
      "model_module_version": "1.2.0",
      "model_name": "LayoutModel",
      "state": {
       "_model_module": "@jupyter-widgets/base",
       "_model_module_version": "1.2.0",
       "_model_name": "LayoutModel",
       "_view_count": null,
       "_view_module": "@jupyter-widgets/base",
       "_view_module_version": "1.2.0",
       "_view_name": "LayoutView",
       "align_content": null,
       "align_items": null,
       "align_self": null,
       "border": null,
       "bottom": null,
       "display": null,
       "flex": null,
       "flex_flow": null,
       "grid_area": null,
       "grid_auto_columns": null,
       "grid_auto_flow": null,
       "grid_auto_rows": null,
       "grid_column": null,
       "grid_gap": null,
       "grid_row": null,
       "grid_template_areas": null,
       "grid_template_columns": null,
       "grid_template_rows": null,
       "height": null,
       "justify_content": null,
       "justify_items": null,
       "left": null,
       "margin": null,
       "max_height": null,
       "max_width": null,
       "min_height": null,
       "min_width": null,
       "object_fit": null,
       "object_position": null,
       "order": null,
       "overflow": null,
       "overflow_x": null,
       "overflow_y": null,
       "padding": null,
       "right": null,
       "top": null,
       "visibility": null,
       "width": null
      }
     },
     "8e42ae3f7ac645cbb5e2cab90d7303b5": {
      "model_module": "@jupyter-widgets/controls",
      "model_module_version": "1.5.0",
      "model_name": "HTMLModel",
      "state": {
       "_dom_classes": [],
       "_model_module": "@jupyter-widgets/controls",
       "_model_module_version": "1.5.0",
       "_model_name": "HTMLModel",
       "_view_count": null,
       "_view_module": "@jupyter-widgets/controls",
       "_view_module_version": "1.5.0",
       "_view_name": "HTMLView",
       "description": "",
       "description_tooltip": null,
       "layout": "IPY_MODEL_9a1d3b40080e49829479fd75df1e9628",
       "placeholder": "​",
       "style": "IPY_MODEL_7aec8c5899784b0e82816369e88520ed",
       "value": " 336/336 [00:00&lt;00:00, 5936.86B/s]"
      }
     },
     "9a1d3b40080e49829479fd75df1e9628": {
      "model_module": "@jupyter-widgets/base",
      "model_module_version": "1.2.0",
      "model_name": "LayoutModel",
      "state": {
       "_model_module": "@jupyter-widgets/base",
       "_model_module_version": "1.2.0",
       "_model_name": "LayoutModel",
       "_view_count": null,
       "_view_module": "@jupyter-widgets/base",
       "_view_module_version": "1.2.0",
       "_view_name": "LayoutView",
       "align_content": null,
       "align_items": null,
       "align_self": null,
       "border": null,
       "bottom": null,
       "display": null,
       "flex": null,
       "flex_flow": null,
       "grid_area": null,
       "grid_auto_columns": null,
       "grid_auto_flow": null,
       "grid_auto_rows": null,
       "grid_column": null,
       "grid_gap": null,
       "grid_row": null,
       "grid_template_areas": null,
       "grid_template_columns": null,
       "grid_template_rows": null,
       "height": null,
       "justify_content": null,
       "justify_items": null,
       "left": null,
       "margin": null,
       "max_height": null,
       "max_width": null,
       "min_height": null,
       "min_width": null,
       "object_fit": null,
       "object_position": null,
       "order": null,
       "overflow": null,
       "overflow_x": null,
       "overflow_y": null,
       "padding": null,
       "right": null,
       "top": null,
       "visibility": null,
       "width": null
      }
     },
     "9eb11583fcc44a93b9e90e3c9b310e7e": {
      "model_module": "@jupyter-widgets/controls",
      "model_module_version": "1.5.0",
      "model_name": "DescriptionStyleModel",
      "state": {
       "_model_module": "@jupyter-widgets/controls",
       "_model_module_version": "1.5.0",
       "_model_name": "DescriptionStyleModel",
       "_view_count": null,
       "_view_module": "@jupyter-widgets/base",
       "_view_module_version": "1.2.0",
       "_view_name": "StyleView",
       "description_width": ""
      }
     },
     "a1b338b4257140b289a076e1ede72595": {
      "model_module": "@jupyter-widgets/controls",
      "model_module_version": "1.5.0",
      "model_name": "HTMLModel",
      "state": {
       "_dom_classes": [],
       "_model_module": "@jupyter-widgets/controls",
       "_model_module_version": "1.5.0",
       "_model_name": "HTMLModel",
       "_view_count": null,
       "_view_module": "@jupyter-widgets/controls",
       "_view_module_version": "1.5.0",
       "_view_name": "HTMLView",
       "description": "",
       "description_tooltip": null,
       "layout": "IPY_MODEL_5c77d29924914a9cbff660e1dfcec6d7",
       "placeholder": "​",
       "style": "IPY_MODEL_dadad2444641425091deeb5975bff2af",
       "value": "downloading: 100%"
      }
     },
     "ae4d4cd85e274ed2a48bf1cd3c2bd35a": {
      "model_module": "@jupyter-widgets/controls",
      "model_module_version": "1.5.0",
      "model_name": "DescriptionStyleModel",
      "state": {
       "_model_module": "@jupyter-widgets/controls",
       "_model_module_version": "1.5.0",
       "_model_name": "DescriptionStyleModel",
       "_view_count": null,
       "_view_module": "@jupyter-widgets/base",
       "_view_module_version": "1.2.0",
       "_view_name": "StyleView",
       "description_width": ""
      }
     },
     "c0524be54749400fa645a6e36fdeb762": {
      "model_module": "@jupyter-widgets/controls",
      "model_module_version": "1.5.0",
      "model_name": "FloatProgressModel",
      "state": {
       "_dom_classes": [],
       "_model_module": "@jupyter-widgets/controls",
       "_model_module_version": "1.5.0",
       "_model_name": "FloatProgressModel",
       "_view_count": null,
       "_view_module": "@jupyter-widgets/controls",
       "_view_module_version": "1.5.0",
       "_view_name": "ProgressView",
       "bar_style": "success",
       "description": "",
       "description_tooltip": null,
       "layout": "IPY_MODEL_804bfb1371b1466ba276f202b5ae00c5",
       "max": 336,
       "min": 0,
       "orientation": "horizontal",
       "style": "IPY_MODEL_3c675cd89d3d488d8d4e9479f005817f",
       "value": 336
      }
     },
     "d25f6077067744de8c6a06f31d3545f8": {
      "model_module": "@jupyter-widgets/base",
      "model_module_version": "1.2.0",
      "model_name": "LayoutModel",
      "state": {
       "_model_module": "@jupyter-widgets/base",
       "_model_module_version": "1.2.0",
       "_model_name": "LayoutModel",
       "_view_count": null,
       "_view_module": "@jupyter-widgets/base",
       "_view_module_version": "1.2.0",
       "_view_name": "LayoutView",
       "align_content": null,
       "align_items": null,
       "align_self": null,
       "border": null,
       "bottom": null,
       "display": null,
       "flex": null,
       "flex_flow": null,
       "grid_area": null,
       "grid_auto_columns": null,
       "grid_auto_flow": null,
       "grid_auto_rows": null,
       "grid_column": null,
       "grid_gap": null,
       "grid_row": null,
       "grid_template_areas": null,
       "grid_template_columns": null,
       "grid_template_rows": null,
       "height": null,
       "justify_content": null,
       "justify_items": null,
       "left": null,
       "margin": null,
       "max_height": null,
       "max_width": null,
       "min_height": null,
       "min_width": null,
       "object_fit": null,
       "object_position": null,
       "order": null,
       "overflow": null,
       "overflow_x": null,
       "overflow_y": null,
       "padding": null,
       "right": null,
       "top": null,
       "visibility": null,
       "width": null
      }
     },
     "dadad2444641425091deeb5975bff2af": {
      "model_module": "@jupyter-widgets/controls",
      "model_module_version": "1.5.0",
      "model_name": "DescriptionStyleModel",
      "state": {
       "_model_module": "@jupyter-widgets/controls",
       "_model_module_version": "1.5.0",
       "_model_name": "DescriptionStyleModel",
       "_view_count": null,
       "_view_module": "@jupyter-widgets/base",
       "_view_module_version": "1.2.0",
       "_view_name": "StyleView",
       "description_width": ""
      }
     },
     "dfc56d40dd534fa7807059ef666a248e": {
      "model_module": "@jupyter-widgets/controls",
      "model_module_version": "1.5.0",
      "model_name": "HBoxModel",
      "state": {
       "_dom_classes": [],
       "_model_module": "@jupyter-widgets/controls",
       "_model_module_version": "1.5.0",
       "_model_name": "HBoxModel",
       "_view_count": null,
       "_view_module": "@jupyter-widgets/controls",
       "_view_module_version": "1.5.0",
       "_view_name": "HBoxView",
       "box_style": "",
       "children": [
        "IPY_MODEL_48cc64fcf3d44055832f15652ccc5e3d",
        "IPY_MODEL_0bf9e7e89c4b4abb81cfd786b1cc8577",
        "IPY_MODEL_34c0ecf438494499a2b17d2aa9d4d90f"
       ],
       "layout": "IPY_MODEL_78c249f054b54beabf069919f2147f4b"
      }
     },
     "e7d82ad62eba46e09c748acd76d930a8": {
      "model_module": "@jupyter-widgets/base",
      "model_module_version": "1.2.0",
      "model_name": "LayoutModel",
      "state": {
       "_model_module": "@jupyter-widgets/base",
       "_model_module_version": "1.2.0",
       "_model_name": "LayoutModel",
       "_view_count": null,
       "_view_module": "@jupyter-widgets/base",
       "_view_module_version": "1.2.0",
       "_view_name": "LayoutView",
       "align_content": null,
       "align_items": null,
       "align_self": null,
       "border": null,
       "bottom": null,
       "display": null,
       "flex": null,
       "flex_flow": null,
       "grid_area": null,
       "grid_auto_columns": null,
       "grid_auto_flow": null,
       "grid_auto_rows": null,
       "grid_column": null,
       "grid_gap": null,
       "grid_row": null,
       "grid_template_areas": null,
       "grid_template_columns": null,
       "grid_template_rows": null,
       "height": null,
       "justify_content": null,
       "justify_items": null,
       "left": null,
       "margin": null,
       "max_height": null,
       "max_width": null,
       "min_height": null,
       "min_width": null,
       "object_fit": null,
       "object_position": null,
       "order": null,
       "overflow": null,
       "overflow_x": null,
       "overflow_y": null,
       "padding": null,
       "right": null,
       "top": null,
       "visibility": null,
       "width": null
      }
     },
     "fca0f36c78bc482fb185823f46f761cd": {
      "model_module": "@jupyter-widgets/base",
      "model_module_version": "1.2.0",
      "model_name": "LayoutModel",
      "state": {
       "_model_module": "@jupyter-widgets/base",
       "_model_module_version": "1.2.0",
       "_model_name": "LayoutModel",
       "_view_count": null,
       "_view_module": "@jupyter-widgets/base",
       "_view_module_version": "1.2.0",
       "_view_name": "LayoutView",
       "align_content": null,
       "align_items": null,
       "align_self": null,
       "border": null,
       "bottom": null,
       "display": null,
       "flex": null,
       "flex_flow": null,
       "grid_area": null,
       "grid_auto_columns": null,
       "grid_auto_flow": null,
       "grid_auto_rows": null,
       "grid_column": null,
       "grid_gap": null,
       "grid_row": null,
       "grid_template_areas": null,
       "grid_template_columns": null,
       "grid_template_rows": null,
       "height": null,
       "justify_content": null,
       "justify_items": null,
       "left": null,
       "margin": null,
       "max_height": null,
       "max_width": null,
       "min_height": null,
       "min_width": null,
       "object_fit": null,
       "object_position": null,
       "order": null,
       "overflow": null,
       "overflow_x": null,
       "overflow_y": null,
       "padding": null,
       "right": null,
       "top": null,
       "visibility": null,
       "width": null
      }
     }
    },
    "version_major": 2,
    "version_minor": 0
   }
  }
 },
 "nbformat": 4,
 "nbformat_minor": 4
}
