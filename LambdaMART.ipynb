{
 "cells": [
  {
   "cell_type": "code",
   "execution_count": null,
   "metadata": {
    "_cell_guid": "b1076dfc-b9ad-4769-8c92-a6c4dae69d19",
    "_uuid": "8f2839f25d086af736a60e9eeb907d3b93b6e0e5",
    "papermill": {
     "duration": 5.248769,
     "end_time": "2021-04-07T15:32:29.019810",
     "exception": false,
     "start_time": "2021-04-07T15:32:23.771041",
     "status": "completed"
    },
    "tags": []
   },
   "outputs": [],
   "source": [
    "import numpy as np\n",
    "import pandas as pd\n",
    "import xgboost as xgb\n",
    "from hyperopt import fmin, tpe, hp, Trials\n",
    "\n",
    "from metrics import average_precision_score, norm_disc_cum_gain_score"
   ]
  },
  {
   "cell_type": "code",
   "execution_count": null,
   "metadata": {
    "papermill": {
     "duration": 0.026569,
     "end_time": "2021-04-07T15:32:29.093902",
     "exception": false,
     "start_time": "2021-04-07T15:32:29.067333",
     "status": "completed"
    },
    "tags": []
   },
   "outputs": [],
   "source": [
    "def cosine_similarity(x, z):\n",
    "    x_norm = np.linalg.norm(x, axis=1)\n",
    "    z_norm = np.linalg.norm(z, axis=1)\n",
    "    return np.sum(x*z, axis=1) / x_norm / z_norm\n",
    "\n",
    "def create_features(x):\n",
    "    idx = x.shape[-1] // 2\n",
    "    q_emb, p_emb = x[:,:idx], x[:,idx:]\n",
    "    abs_diff = np.abs(q_emb-p_emb)\n",
    "    prod = q_emb * p_emb\n",
    "    cos_sim = cosine_similarity(q_emb, p_emb).reshape(-1, 1)\n",
    "    return np.hstack((x, abs_diff, prod, cos_sim))\n",
    "\n",
    "def get_groups(qids):\n",
    "    '''assuming qids are already sorted'''\n",
    "    counts = np.bincount(qids.astype(int))\n",
    "    return counts[counts.nonzero()]\n",
    "\n",
    "def get_dmatrix(file_name):\n",
    "    data = np.load(file_name)['arr_0'].astype(np.float32)\n",
    "    x, y, qids = data[:,3:], data[:,2].astype(int), data[:,0].astype(int)\n",
    "    del data\n",
    "    x = create_features(x)\n",
    "    groups = get_groups(qids)\n",
    "    del qids\n",
    "    dmatrix = xgb.DMatrix(x, label=y)\n",
    "    del x, y\n",
    "    dmatrix.set_group(groups)\n",
    "    del groups\n",
    "    return dmatrix"
   ]
  },
  {
   "cell_type": "code",
   "execution_count": null,
   "metadata": {
    "papermill": {
     "duration": 0.015534,
     "end_time": "2021-04-07T15:32:29.118127",
     "exception": false,
     "start_time": "2021-04-07T15:32:29.102593",
     "status": "completed"
    },
    "tags": []
   },
   "outputs": [],
   "source": [
    "dtrain = get_dmatrix('./data/train_data.npz')\n",
    "dval = get_dmatrix('./data/val_data_small.npz')"
   ]
  },
  {
   "cell_type": "code",
   "execution_count": null,
   "metadata": {
    "papermill": {
     "duration": 0.018592,
     "end_time": "2021-04-07T15:32:29.145714",
     "exception": false,
     "start_time": "2021-04-07T15:32:29.127122",
     "status": "completed"
    },
    "tags": []
   },
   "outputs": [],
   "source": [
    "params = {\n",
    "    'tree_method': 'gpu_hist', # gpu_hist if gpu else hist\n",
    "    'objective': 'rank:ndcg',\n",
    "    'eval_metric': 'ndcg@100',\n",
    "    'learning_rate': None,\n",
    "    'gamma': None,\n",
    "    'colsample_bytree': None,\n",
    "    'subsample': None,\n",
    "    'reg_alpha': None,\n",
    "    'reg_lambda': None,\n",
    "    'min_child_weight': None,\n",
    "    'max_depth': None,\n",
    "}\n",
    "int_params = set(['min_child_weight', 'max_depth'])\n",
    "def objective(space):\n",
    "    for key, value in space.items():\n",
    "        if key in int_params:\n",
    "            params[key] = int(value)\n",
    "        else:\n",
    "            params[key] = value\n",
    "    \n",
    "    results_dict = dict()\n",
    "    evallist = [(dval, 'eval')]\n",
    "    model = xgb.train(params, dtrain,\n",
    "                      evals=evallist, \n",
    "                      evals_result=results_dict,\n",
    "                      verbose_eval=False,\n",
    "                      num_boost_round=1000,\n",
    "                      early_stopping_rounds=10,\n",
    "                      )\n",
    "    return -results_dict['eval']['ndcg@100'][-1]\n",
    "\n",
    "space = {\n",
    "    'learning_rate': hp.uniform('learning_rate', 0.001, 0.1),\n",
    "    'gamma': hp.uniform ('gamma', 1, 3),\n",
    "    'colsample_bytree': hp.uniform ('colsample_bytree', 0.5, 1),\n",
    "    'subsample': hp.uniform ('subsample', 0.5, 1),\n",
    "    'reg_alpha': hp.uniform('reg_alpha', 0, 1),\n",
    "    'reg_lambda': hp.uniform('reg_lambda', 1, 4.5),\n",
    "    'min_child_weight': hp.quniform('min_child_weight', 0, 10, 1),\n",
    "    'max_depth': hp.quniform('max_depth', 2, 20, 1),\n",
    "}\n",
    "\n",
    "trials = Trials()\n",
    "best = fmin(fn=objective,\n",
    "            space=space,\n",
    "            algo=tpe.suggest,\n",
    "            max_evals=300,\n",
    "            trials=trials)\n",
    "\n",
    "for key, value in best.items():\n",
    "    if key in int_params:\n",
    "        params[key] = int(value)\n",
    "    else:\n",
    "        params[key] = value\n",
    "    \n",
    "print()\n",
    "print('Best Parameters:')\n",
    "print(params)\n",
    "# params = {\n",
    "#     'tree_method': 'gpu_hist',\n",
    "#     'objective': 'rank:ndcg',\n",
    "#     'eval_metric': 'ndcg@100',\n",
    "#     'learning_rate': 0.08234410288432056,\n",
    "#     'gamma': 1.2658850952270655,\n",
    "#     'colsample_bytree': 0.8664018282251827,\n",
    "#     'subsample': 0.7068097095668904,\n",
    "#     'reg_alpha': 0.9980762017154667,\n",
    "#     'reg_lambda': 2.0879446922830236,\n",
    "#     'min_child_weight': 9,\n",
    "#     'max_depth': 12\n",
    "# }"
   ]
  },
  {
   "cell_type": "code",
   "execution_count": null,
   "metadata": {
    "papermill": {
     "duration": 42.753594,
     "end_time": "2021-04-07T15:33:11.909785",
     "exception": false,
     "start_time": "2021-04-07T15:32:29.156191",
     "status": "completed"
    },
    "tags": []
   },
   "outputs": [],
   "source": [
    "dtrain = get_dmatrix('../input/irdm-data/train_data.npz')"
   ]
  },
  {
   "cell_type": "code",
   "execution_count": null,
   "metadata": {
    "papermill": {
     "duration": 159.666311,
     "end_time": "2021-04-07T15:35:51.582678",
     "exception": false,
     "start_time": "2021-04-07T15:33:11.916367",
     "status": "completed"
    },
    "tags": []
   },
   "outputs": [],
   "source": [
    "del dval\n",
    "model = xgb.train(params, dtrain, num_boost_round=100)\n",
    "del dtrain"
   ]
  },
  {
   "cell_type": "code",
   "execution_count": null,
   "metadata": {
    "papermill": {
     "duration": 82.285722,
     "end_time": "2021-04-07T15:37:13.894226",
     "exception": false,
     "start_time": "2021-04-07T15:35:51.608504",
     "status": "completed"
    },
    "tags": []
   },
   "outputs": [],
   "source": [
    "# Save Results\n",
    "test_data = np.load('../input/irdm-data/val_data.npz')\n",
    "qids = list(test_data.keys())\n",
    "qids = [int(qid) for qid in qids]\n",
    "ndcg, ap = [], []\n",
    "with open('LR.txt', 'w') as f:\n",
    "    for qid in qids:\n",
    "        data = test_data[str(qid)]\n",
    "        pids, rels, x = data[:,0], data[:,1], data[:,2:]\n",
    "        dtest = xgb.DMatrix(create_features(x))\n",
    "        scores = model.predict(dtest)\n",
    "        idxs = np.argsort(-scores)\n",
    "        pids, scores, rels = pids[idxs], scores[idxs], rels[idxs]\n",
    "        ap.append(average_precision_score(rels))\n",
    "        ndcg.append(norm_disc_cum_gain_score(rels, k=100))\n",
    "        for i in range(scores[:100].size):\n",
    "            rank = i+1\n",
    "            f.write(f'{qid} A1 {pids[i]} {rank} {scores[i]} LM\\n')\n",
    "\n",
    "print(f'Mean AP: {sum(ap) / len(ap)}')  # 0.03648974746107205\n",
    "print(f'Mean nDCG: {sum(ndcg) / len(ndcg)}')  # 0.09014276245733374"
   ]
  }
 ],
 "metadata": {
  "kernelspec": {
   "display_name": "Python 3",
   "language": "python",
   "name": "python3"
  },
  "language_info": {
   "codemirror_mode": {
    "name": "ipython",
    "version": 3
   },
   "file_extension": ".py",
   "mimetype": "text/x-python",
   "name": "python",
   "nbconvert_exporter": "python",
   "pygments_lexer": "ipython3",
   "version": "3.8.3"
  },
  "papermill": {
   "default_parameters": {},
   "duration": 296.754112,
   "end_time": "2021-04-07T15:37:15.892562",
   "environment_variables": {},
   "exception": null,
   "input_path": "__notebook__.ipynb",
   "output_path": "__notebook__.ipynb",
   "parameters": {},
   "start_time": "2021-04-07T15:32:19.138450",
   "version": "2.2.2"
  }
 },
 "nbformat": 4,
 "nbformat_minor": 4
}
